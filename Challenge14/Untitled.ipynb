{
 "cells": [
  {
   "cell_type": "markdown",
   "id": "85da1bc8",
   "metadata": {},
   "source": [
    "https://interactivebrokers.github.io/tws-api/initial_setup.html#tws\n",
    "\n",
    "Before any client application can connect to the Trader Workstation, the TWS needs to be configured to listen for incoming API connections on a very specific port. By default when TWS is first installed it will not allow API connections. IBGW by contrast accepts socket-based API connections by default. To enable API access in TWS, navigate to the TWS' API settings at Edit -> Global Configuration -> API -> Settings and make sure the \"Enable ActiveX and Socket Clients\" option is activated as shown below:\n",
    "\n",
    "enable_socket.png\n",
    "Also important to mention is the \"Socket port\". By default a production account TWS session will be set for socket port 7496, and a paper account session will li|sten on socket port 7497. However these are just default values chosen because they are almost always available on any computer. They can be changed to any open socket port, as long as the socket ports specified in the API client and TWS settings match. If there are multiple TWS sessions on one computer, the socket port is used to distinguish the TWS session. Since only one application can listen on one port at a time you will need to assign different ports to each running TWS."
   ]
  },
  {
   "cell_type": "code",
   "execution_count": 1,
   "id": "317cfafe",
   "metadata": {},
   "outputs": [
    {
     "ename": "SyntaxError",
     "evalue": "invalid syntax (1622883511.py, line 2)",
     "output_type": "error",
     "traceback": [
      "\u001b[1;36m  Cell \u001b[1;32mIn[1], line 2\u001b[1;36m\u001b[0m\n\u001b[1;33m    ClientID =\u001b[0m\n\u001b[1;37m               ^\u001b[0m\n\u001b[1;31mSyntaxError\u001b[0m\u001b[1;31m:\u001b[0m invalid syntax\n"
     ]
    }
   ],
   "source": [
    "#Chris, put your client ID in for the following variable\n",
    "ClientID = "
   ]
  },
  {
   "cell_type": "code",
   "execution_count": null,
   "id": "e3d7d1f9",
   "metadata": {},
   "outputs": [],
   "source": [
    "import pandas\n",
    "import threading\n",
    "import time\n",
    "import sys\n",
    "\n",
    "sys.path.insert(1, '../ibapi')\n",
    "\n"
   ]
  },
  {
   "cell_type": "code",
   "execution_count": null,
   "id": "1a68b469",
   "metadata": {},
   "outputs": [],
   "source": [
    "from ibapi.client import EClient\n",
    "from ibapi.wrapper import EWrapper\n",
    "from ibapi.contract import Contract"
   ]
  },
  {
   "cell_type": "code",
   "execution_count": null,
   "id": "59baaaa3",
   "metadata": {},
   "outputs": [],
   "source": [
    "class IBapi(EWrapper, EClient):\n",
    "    def __init__(self):\n",
    "        EClient.__init__(self, self)\n",
    "        elf.data = [] #Initialize variable to store candle\n",
    "\n",
    "    def historicalData(self, reqId, bar):\n",
    "        print(f'Time: {bar.date} Close: {bar.close}')\n",
    "        self.data.append([bar.date, bar.close])\n",
    "\n",
    "def run_loop():\n",
    "    app.run()"
   ]
  },
  {
   "cell_type": "code",
   "execution_count": null,
   "id": "e59f43eb",
   "metadata": {},
   "outputs": [],
   "source": [
    "app = IBapi()\n",
    "app.connect('127.0.0.1', 7497, ClientID)"
   ]
  },
  {
   "cell_type": "code",
   "execution_count": null,
   "id": "cda9e8fb",
   "metadata": {},
   "outputs": [],
   "source": [
    "#Start the socket in a thread\n",
    "api_thread = threading.Thread(target=app.run, daemon=True)\n",
    "api_thread.start()\n"
   ]
  },
  {
   "cell_type": "code",
   "execution_count": null,
   "id": "178fd520",
   "metadata": {},
   "outputs": [],
   "source": [
    "#If above does not work use this:\n",
    "#app.run()"
   ]
  },
  {
   "cell_type": "code",
   "execution_count": null,
   "id": "3c3e14a6",
   "metadata": {},
   "outputs": [],
   "source": [
    "bank_stocks = {\n",
    "    'JPM': 'NYSE',\n",
    "    'WF': 'NYSE',\n",
    "    'USbank': 'NYSE',\n",
    "    'BofA': 'NYSE',\n",
    "    'C': 'NYSE',\n",
    "    'SVB': 'NASDAQ',\n",
    "    'Signature': 'NASDAQ',\n",
    "    'First Republic': 'NYSE',\n",
    "    'First Citizens Banc': 'NASDAQ',\n",
    "    'Fifth Third Bank': 'NASDAQ',\n",
    "    'SoFi': 'NASDAQ',\n",
    "    'SQ': 'NYSE'\n",
    "}\n"
   ]
  },
  {
   "cell_type": "code",
   "execution_count": null,
   "id": "5cd64f98",
   "metadata": {},
   "outputs": [],
   "source": [
    "#Create contract object\n",
    "contract_name_dict = {}\n",
    "for a in bank_stocks:\n",
    "    file_name_dict[str(a)+'_contract'] = Contract()\n",
    "    file_name_dict[str(a)+'_contract'].symbol = a\n",
    "    file_name_dict[str(a)+'_contract'].secType = 'STK'\n",
    "    file_name_dict[str(a)+'_contract'].exchange = bank_stocks[a]\n",
    "    file_name_dict[str(a)+'_contract'].currency = 'USD'\n",
    "\n",
    "\n",
    "\n"
   ]
  },
  {
   "cell_type": "code",
   "execution_count": null,
   "id": "bfccf777",
   "metadata": {},
   "outputs": [],
   "source": [
    "for a in contract_name_dict:\n",
    "    time.sleep(10)\n",
    "    app.reqHistoricalData(1, a, '', '1 Y', '1 day', 'BID', 0, 2, False, [])\n",
    "    time.sleep(10)\n",
    "    df = pandas.DataFrame(app.data, columns=['DateTime', 'Close'])\n",
    "    df['DateTime'] = pandas.to_datetime(df['DateTime'],unit='s') \n",
    "    df.to_csv('EURUSD_Hourly.csv') "
   ]
  },
  {
   "cell_type": "code",
   "execution_count": null,
   "id": "fe008624",
   "metadata": {},
   "outputs": [],
   "source": [
    "#Request historical candles\n",
    "app.reqHistoricalData(1, eurusd_contract, '', '2 D', '1 hour', 'BID', 0, 2, False, [])"
   ]
  },
  {
   "cell_type": "code",
   "execution_count": null,
   "id": "d6bfb8f5",
   "metadata": {},
   "outputs": [],
   "source": [
    "df = pandas.DataFrame(app.data, columns=['DateTime', 'Close'])\n",
    "df['DateTime'] = pandas.to_datetime(df['DateTime'],unit='s') \n",
    "df.to_csv('EURUSD_Hourly.csv') "
   ]
  },
  {
   "cell_type": "code",
   "execution_count": null,
   "id": "0cd14fa8",
   "metadata": {},
   "outputs": [],
   "source": [
    "print(df)"
   ]
  },
  {
   "cell_type": "code",
   "execution_count": null,
   "id": "c87ebd62",
   "metadata": {},
   "outputs": [],
   "source": [
    "app.disconnect()"
   ]
  },
  {
   "cell_type": "code",
   "execution_count": 3,
   "id": "a9d4f299",
   "metadata": {},
   "outputs": [
    {
     "data": {
      "text/plain": [
       "4944"
      ]
     },
     "execution_count": 3,
     "metadata": {},
     "output_type": "execute_result"
    }
   ],
   "source": [
    "i = 5\n",
    "count = 0\n",
    "while i <=100:\n",
    "    j =1\n",
    "    while j <i:\n",
    "        count +=1\n",
    "        j+=1\n",
    "    i+=1\n",
    "    \n",
    "count\n",
    "        "
   ]
  },
  {
   "cell_type": "code",
   "execution_count": null,
   "id": "144aae64",
   "metadata": {},
   "outputs": [],
   "source": []
  }
 ],
 "metadata": {
  "kernelspec": {
   "display_name": "Python 3 (ipykernel)",
   "language": "python",
   "name": "python3"
  },
  "language_info": {
   "codemirror_mode": {
    "name": "ipython",
    "version": 3
   },
   "file_extension": ".py",
   "mimetype": "text/x-python",
   "name": "python",
   "nbconvert_exporter": "python",
   "pygments_lexer": "ipython3",
   "version": "3.9.16"
  }
 },
 "nbformat": 4,
 "nbformat_minor": 5
}
